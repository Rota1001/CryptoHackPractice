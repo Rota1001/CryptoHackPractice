{
 "cells": [
  {
   "cell_type": "code",
   "execution_count": null,
   "metadata": {},
   "outputs": [
    {
     "ename": "",
     "evalue": "",
     "output_type": "error",
     "traceback": [
      "\u001b[1;31mFailed to start the Kernel. \n",
      "\u001b[1;31mThe Jupyter notebook server failed to launch in time. \n",
      "\u001b[1;31mView Jupyter <a href='command:jupyter.viewOutput'>log</a> for further details."
     ]
    }
   ],
   "source": [
    "from decimal import *\n",
    "getcontext().prec = int(100)\n",
    "prime = [2, 3, 5, 7, 11, 13, 17, 19, 23, 29, 31, 37, 41, 43, 47, 53, 59, 61, 67, 71, 73, 79, 83, 89, 97, 101, 103]\n",
    "\n",
    "prime = [Decimal(int(i)).sqrt() * int(16 ** 64) for i in prime]"
   ]
  },
  {
   "cell_type": "code",
   "execution_count": null,
   "metadata": {},
   "outputs": [
    {
     "ename": "",
     "evalue": "",
     "output_type": "error",
     "traceback": [
      "\u001b[1;31mFailed to start the Kernel. \n",
      "\u001b[1;31mThe Jupyter notebook server failed to launch in time. \n",
      "\u001b[1;31mView Jupyter <a href='command:jupyter.viewOutput'>log</a> for further details."
     ]
    }
   ],
   "source": [
    "c = 1350995397927355657956786955603012410260017344805998076702828160316695004588429433\n",
    "def backpack(n):\n",
    "    a = [[0 for i in range(len(prime) + 1)] for j in range(len(prime) + 1)]\n",
    "\n",
    "    for i in range(len(prime)):\n",
    "        a[i][i] = 1\n",
    "        a[i][-1] = floor(prime[i]) // n\n",
    "        a[-1][i] = 64\n",
    "    a[-1][-1] = c // n\n",
    "    mat = matrix(ZZ, a)\n",
    "    mat = mat.LLL()\n",
    "    for i in mat:\n",
    "        flag = \"\"\n",
    "        fail = False\n",
    "        for j in i[:-1]:\n",
    "             if not -64 <= j < 64:\n",
    "                fail = True\n",
    "                break\n",
    "        if fail:\n",
    "            continue\n",
    "        for j in i[:-1]:\n",
    "            flag += chr(j + 64)\n",
    "        if flag[0:6] == \"crypto\":\n",
    "            print(flag)\n",
    "            exit(0)"
   ]
  },
  {
   "cell_type": "code",
   "execution_count": null,
   "metadata": {},
   "outputs": [
    {
     "ename": "",
     "evalue": "",
     "output_type": "error",
     "traceback": [
      "\u001b[1;31mFailed to interrupt the Kernel. \n",
      "\u001b[1;31mThe Jupyter notebook server failed to launch in time. \n",
      "\u001b[1;31mView Jupyter <a href='command:jupyter.viewOutput'>log</a> for further details."
     ]
    },
    {
     "ename": "",
     "evalue": "",
     "output_type": "error",
     "traceback": [
      "\u001b[1;31mFailed to start the Kernel. \n",
      "\u001b[1;31mThe Jupyter notebook server failed to launch in time. \n",
      "\u001b[1;31mView Jupyter <a href='command:jupyter.viewOutput'>log</a> for further details."
     ]
    }
   ],
   "source": [
    "for i in range(2, 10000):\n",
    "    if i % 1000 == 0:\n",
    "        print(i)\n",
    "    backpack(i)"
   ]
  }
 ],
 "metadata": {
  "kernelspec": {
   "display_name": "SageMath 9.3",
   "language": "sage",
   "name": "sagemath"
  },
  "language_info": {
   "codemirror_mode": {
    "name": "ipython",
    "version": 3
   },
   "file_extension": ".py",
   "mimetype": "text/x-python",
   "name": "python",
   "nbconvert_exporter": "python",
   "pygments_lexer": "ipython3",
   "version": "3.7.10"
  }
 },
 "nbformat": 4,
 "nbformat_minor": 2
}
