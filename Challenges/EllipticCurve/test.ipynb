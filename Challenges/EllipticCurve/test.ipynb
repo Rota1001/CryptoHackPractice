{
 "cells": [
  {
   "cell_type": "code",
   "execution_count": 33,
   "metadata": {
    "vscode": {
     "languageId": "python"
    }
   },
   "outputs": [
    {
     "name": "stdout",
     "output_type": "stream",
     "text": [
      "{\"option\": \"verify\", \"msg\": \"unlock\", \"r\": \"8da75a1f75ddcd7660f923243060edce5de37f007011fcfd\", \"s\": \"85d92235ecdd831169006563834db9a59d4055b2bf9f7356\"}\n"
     ]
    }
   ],
   "source": [
    "from sage.all import *\n",
    "import hashlib\n",
    "from Crypto.Util.number import *\n",
    "# gx = 602046282375688656758213480587526111916698976636884684818\n",
    "# gy = 174050332293622031404857552280219410364023488927386650641\n",
    "p = 6277101735386680763835789423207666416083908700390324961279\n",
    "# a = -3\n",
    "# b=2455155546008943817740293915197451784769108058161191238065\n",
    "# E = EllipticCurve(GF(p), [a, b])\n",
    "# g = E(gx, gy)\n",
    "r = 0x8da75a1f75ddcd7660f923243060edce5de37f007011fcfd\n",
    "s = 0x874953b2d78b9bbc3ed8ebbe1a9b98d54b4d79fcfb78dd07\n",
    "msg = b'Current time is 2:24'\n",
    "newmsg = b'unlock'\n",
    "e = bytes_to_long(hashlib.sha1(msg).digest())\n",
    "newe = bytes_to_long(hashlib.sha1(newmsg).digest())\n",
    "\n",
    "k = e * pow(s - r, -1, p) % p\n",
    "news = (s * k - e + newe) % p\n",
    "data = {}\n",
    "data['option'] = 'verify'\n",
    "data['msg'] = newmsg.decode()\n",
    "data['r'] = long_to_bytes(r).hex()\n",
    "data['s'] = long_to_bytes(int(news)).hex()\n",
    "print(str(data).replace('\\'', '\\\"'))\n",
    "# print(g.discrete_log(P))\n",
    "# CurveFp(p=6277101735386680763835789423207666416083908700390324961279, a=-3, b=2455155546008943817740293915197451784769108058161191238065, h=1)\n"
   ]
  }
 ],
 "metadata": {
  "kernelspec": {
   "display_name": "SageMath 9.3",
   "language": "sage",
   "name": "sagemath"
  },
  "language_info": {
   "codemirror_mode": {
    "name": "ipython",
    "version": 3
   },
   "file_extension": ".py",
   "mimetype": "text/x-python",
   "name": "sage",
   "nbconvert_exporter": "python",
   "pygments_lexer": "ipython3",
   "version": "3.7.10"
  }
 },
 "nbformat": 4,
 "nbformat_minor": 2
}
