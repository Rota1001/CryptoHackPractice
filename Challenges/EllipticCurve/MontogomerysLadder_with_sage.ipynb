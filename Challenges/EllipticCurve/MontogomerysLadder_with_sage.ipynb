{
 "cells": [
  {
   "cell_type": "code",
   "execution_count": 4,
   "metadata": {
    "vscode": {
     "languageId": "python"
    }
   },
   "outputs": [
    {
     "name": "stdout",
     "output_type": "stream",
     "text": [
      "49231350462786016064336756977412654793383964726771892982507420921563002378152\n"
     ]
    }
   ],
   "source": [
    "from sage.all import *\n",
    "p = (1 << 255) - 19\n",
    "F = GF(p)\n",
    "# y^2 + a_1 xy + a_3 y = x^3 + a_2 x^2 + a_4 x + a_6\n",
    "A = 486662\n",
    "E = EllipticCurve(F, [0, A, 0, 1, 0])\n",
    "G = E.lift_x(F(9))\n",
    "n = 0x1337c0decafe\n",
    "print((n * G)[0])"
   ]
  }
 ],
 "metadata": {
  "kernelspec": {
   "display_name": "SageMath 9.3",
   "language": "sage",
   "name": "sagemath"
  },
  "language_info": {
   "codemirror_mode": {
    "name": "ipython",
    "version": 3
   },
   "file_extension": ".py",
   "mimetype": "text/x-python",
   "name": "sage",
   "nbconvert_exporter": "python",
   "pygments_lexer": "ipython3",
   "version": "3.11.7"
  }
 },
 "nbformat": 4,
 "nbformat_minor": 2
}
