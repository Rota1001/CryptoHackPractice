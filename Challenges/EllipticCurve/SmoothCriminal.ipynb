{
 "cells": [
  {
   "cell_type": "code",
   "execution_count": 60,
   "metadata": {
    "vscode": {
     "languageId": "python"
    }
   },
   "outputs": [
    {
     "name": "stdout",
     "output_type": "stream",
     "text": [
      "[1871]\n",
      "[1871, 73]\n",
      "[1871, 73, 2080]\n",
      "[1871, 73, 2080, 704661]\n",
      "[1871, 73, 2080, 704661, 105138385]\n",
      "[1871, 73, 2080, 704661, 105138385, 109957133994]\n",
      "47836431801801373761601790722388100620\n"
     ]
    }
   ],
   "source": [
    "from sage.all import *\n",
    "\n",
    "p = 310717010502520989590157367261876774703\n",
    "a = 2\n",
    "b = 3\n",
    "E = EllipticCurve(GF(p), [a, b])\n",
    "\n",
    "\n",
    "\n",
    "G = E(179210853392303317793440285562762725654, 105268671499942631758568591033409611165)\n",
    "P = E(280810182131414898730378982766101210916, 291506490768054478159835604632710368904)\n",
    "B = E(272640099140026426377756188075937988094, 51062462309521034358726608268084433317)\n",
    "\n",
    "primes = []\n",
    "for i, j in factor(P.order()):\n",
    "     primes.append(i ** j)\n",
    "\n",
    "sol = []\n",
    "for prime in primes:\n",
    "    t = int(G.order() / prime)\n",
    "    sol.append(discrete_log(t * P, t * G, operation=\"+\"))\n",
    "    print(sol)\n",
    "#[1871, 73, 2080, 704661, 105138385]\n",
    "n = crt(sol, primes)\n",
    "print(n)\n",
    "\n"
   ]
  },
  {
   "cell_type": "code",
   "execution_count": 51,
   "metadata": {
    "vscode": {
     "languageId": "python"
    }
   },
   "outputs": [],
   "source": [
    "share_secret = int((n * B)[0])\n",
    "iv = '07e2628b590095a5e332d397b8a59aa7'\n",
    "encrypted_flag = '8220b7c47b36777a737f5ef9caa2814cf20c1c1ef496ec21a9b4833da24a008d0870d3ac3a6ad80065c138a2ed6136af'\n"
   ]
  },
  {
   "cell_type": "code",
   "execution_count": 56,
   "metadata": {
    "vscode": {
     "languageId": "python"
    }
   },
   "outputs": [
    {
     "name": "stdout",
     "output_type": "stream",
     "text": [
      "b'crypto{n07_4ll_curv3s_4r3_s4f3_curv3s}\\n\\n\\n\\n\\n\\n\\n\\n\\n\\n'\n"
     ]
    }
   ],
   "source": [
    "from Crypto.Cipher import AES\n",
    "import hashlib\n",
    "\n",
    "key = hashlib.sha1(str(share_secret).encode('ascii')).digest()[:16]\n",
    "cipher = AES.new(key, AES.MODE_CBC, bytes.fromhex(iv))\n",
    "print(cipher.decrypt(bytes.fromhex(encrypted_flag)))"
   ]
  }
 ],
 "metadata": {
  "kernelspec": {
   "display_name": "SageMath 9.3",
   "language": "sage",
   "name": "sagemath"
  },
  "language_info": {
   "codemirror_mode": {
    "name": "ipython",
    "version": 3
   },
   "file_extension": ".py",
   "mimetype": "text/x-python",
   "name": "sage",
   "nbconvert_exporter": "python",
   "pygments_lexer": "ipython3",
   "version": "3.7.10"
  }
 },
 "nbformat": 4,
 "nbformat_minor": 2
}
